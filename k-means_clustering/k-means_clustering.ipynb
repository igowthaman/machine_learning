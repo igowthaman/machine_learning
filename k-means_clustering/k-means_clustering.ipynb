{
 "cells": [],
 "metadata": {
  "kernelspec": {
   "display_name": "Python 3.10.5 ('venv': venv)",
   "language": "python",
   "name": "python3"
  },
  "language_info": {
   "codemirror_mode": {
    "name": "ipython",
    "version": 3
   },
   "file_extension": ".py",
   "mimetype": "text/x-python",
   "name": "python",
   "nbconvert_exporter": "python",
   "pygments_lexer": "ipython3",
   "version": "3.10.5"
  },
  "orig_nbformat": 4,
  "vscode": {
   "interpreter": {
    "hash": "c3e6e50f1e4d6474d568bc0bef5fc4003994d9c067cae30c568972be3ebb0472"
   }
  }
 },
 "nbformat": 4,
 "nbformat_minor": 2
}
